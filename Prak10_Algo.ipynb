{
  "nbformat": 4,
  "nbformat_minor": 0,
  "metadata": {
    "colab": {
      "provenance": []
    },
    "kernelspec": {
      "name": "python3",
      "display_name": "Python 3"
    },
    "language_info": {
      "name": "python"
    }
  },
  "cells": [
    {
      "cell_type": "code",
      "execution_count": 2,
      "metadata": {
        "colab": {
          "base_uri": "https://localhost:8080/"
        },
        "id": "0tAr5nWneVHy",
        "outputId": "35003cc3-8223-427e-d5c4-9dcf2488a1cf"
      },
      "outputs": [
        {
          "output_type": "stream",
          "name": "stdout",
          "text": [
            "Masukkan elemen list: 7 10 4 2 1 5 6\n",
            "Masukkan elemen yang dicari: 5\n",
            "List setelah disortir: [1, 2, 4, 5, 6, 7, 10]\n",
            "Elemen ditemukan di indeks 3\n"
          ]
        }
      ],
      "source": [
        "#Latihan 1\n",
        "def bubble_sort(arr):\n",
        "    n = len(arr)\n",
        "    for i in range(n):\n",
        "        for j in range(0, n-i-1):\n",
        "            if arr[j] > arr[j+1]:\n",
        "                arr[j], arr[j+1] = arr[j+1], arr[j]\n",
        "    return arr\n",
        "\n",
        "def binary_search(arr, target):\n",
        "    low, high = 0, len(arr) - 1\n",
        "    while low <= high:\n",
        "        mid = (low + high) // 2\n",
        "        if arr[mid] == target:\n",
        "            return mid\n",
        "        elif arr[mid] < target:\n",
        "            low = mid + 1\n",
        "        else:\n",
        "            high = mid - 1\n",
        "    return -1\n",
        "\n",
        "# Input dari pengguna\n",
        "arr = list(map(int, input(\"Masukkan elemen list: \").split()))\n",
        "target = int(input(\"Masukkan elemen yang dicari: \"))\n",
        "sorted_arr = bubble_sort(arr)\n",
        "print(f\"List setelah disortir: {sorted_arr}\")\n",
        "hasil = binary_search(sorted_arr, target)\n",
        "if hasil != -1:\n",
        "    print(f\"Elemen ditemukan di indeks {hasil}\")\n",
        "else:\n",
        "    print(\"Elemen tidak ditemukan dalam list\")"
      ]
    },
    {
      "cell_type": "code",
      "source": [
        "#Latihan 2\n",
        "def bubble_sort_recursive(arr, n=None):\n",
        "    if n is None:\n",
        "        n = len(arr)\n",
        "\n",
        "    if n == 1:\n",
        "        return arr\n",
        "\n",
        "    for i in range(n - 1):\n",
        "        if arr[i] > arr[i + 1]:\n",
        "            arr[i], arr[i + 1] = arr[i + 1], arr[i]\n",
        "    return bubble_sort_recursive(arr, n - 1)\n",
        "\n",
        "data = list(map(int, input(\"Masukkan elemen-elemen list (pisahkan dengan spasi): \").split()))\n",
        "\n",
        "print(\"List sebelum sorting:\", data)\n",
        "sorted_data = bubble_sort_recursive(data)\n",
        "print(\"List setelah sorting:\", sorted_data)"
      ],
      "metadata": {
        "colab": {
          "base_uri": "https://localhost:8080/"
        },
        "id": "nCnv4K_5oqY4",
        "outputId": "d05f796e-3d65-4b40-905d-9829845d14c4"
      },
      "execution_count": 3,
      "outputs": [
        {
          "output_type": "stream",
          "name": "stdout",
          "text": [
            "Masukkan elemen-elemen list (pisahkan dengan spasi): 10 5 45 56 44 2 1 4\n",
            "List sebelum sorting: [10, 5, 45, 56, 44, 2, 1, 4]\n",
            "List setelah sorting: [1, 2, 4, 5, 10, 44, 45, 56]\n"
          ]
        }
      ]
    }
  ]
}