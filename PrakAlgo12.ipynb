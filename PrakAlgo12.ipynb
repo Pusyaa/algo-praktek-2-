{
  "nbformat": 4,
  "nbformat_minor": 0,
  "metadata": {
    "colab": {
      "provenance": []
    },
    "kernelspec": {
      "name": "python3",
      "display_name": "Python 3"
    },
    "language_info": {
      "name": "python"
    }
  },
  "cells": [
    {
      "cell_type": "code",
      "source": [
        "#Latihan 1\n",
        "import pandas as pd\n",
        "\n",
        "Data = pd.read_csv('/content/sample_data/negara.csv')\n",
        "df = pd.DataFrame(Data)\n",
        "\n",
        "numeric_columns = ['Populasi', 'Luas']\n",
        "mean_population = df.groupby(['Negara'])[numeric_columns].mean()\n",
        "\n",
        "print(Data)\n",
        "print()\n",
        "print(mean_population)\n",
        "print(\"\\nRata-rata keseluruhan:\")\n",
        "print(df[numeric_columns].mean())\n"
      ],
      "metadata": {
        "colab": {
          "base_uri": "https://localhost:8080/"
        },
        "id": "YPPdyM5yDJhV",
        "outputId": "425a8400-9122-4582-99c2-d84cfe8e4c26"
      },
      "execution_count": null,
      "outputs": [
        {
          "output_type": "stream",
          "name": "stdout",
          "text": [
            "             Negara       Ibu Kota    Benua   Luas  Populasi\n",
            "0         Indonesia        Jakarta     Asia   1905       264\n",
            "1            Jepang          Tokyo     Asia    377       143\n",
            "2             India      New Delhi     Asia   3287      1252\n",
            "3             China        Beijing     Asia   9597      1357\n",
            "4   Amerika Serikat  Washington DC  Amerika   9834       329\n",
            "5            Brazil       Brazilia  Amerika   8515       210\n",
            "6             Rusia         Moskow     Asia  17098       146\n",
            "7           Meksiko   Meksiko City  Amerika   1964       126\n",
            "8           Nigeria          Abuja   Afrika    923       200\n",
            "9            Jerman         Berlin    Eropa    357        83\n",
            "10         Aljazair       Aljazair   Afrika   2381        43\n",
            "11          Inggris         London    Eropa    242        66\n",
            "\n",
            "                 Populasi     Luas\n",
            "Negara                            \n",
            "Aljazair             43.0   2381.0\n",
            "Amerika Serikat     329.0   9834.0\n",
            "Brazil              210.0   8515.0\n",
            "China              1357.0   9597.0\n",
            "India              1252.0   3287.0\n",
            "Indonesia           264.0   1905.0\n",
            "Inggris              66.0    242.0\n",
            "Jepang              143.0    377.0\n",
            "Jerman               83.0    357.0\n",
            "Meksiko             126.0   1964.0\n",
            "Nigeria             200.0    923.0\n",
            "Rusia               146.0  17098.0\n",
            "\n",
            "Rata-rata keseluruhan:\n",
            "Populasi     351.583333\n",
            "Luas        4706.666667\n",
            "dtype: float64\n"
          ]
        }
      ]
    },
    {
      "cell_type": "code",
      "source": [
        "#Latihan 2\n",
        "import pandas as pd\n",
        "\n",
        "Data = pd.read_csv('/content/sample_data/negara.csv')\n",
        "df = pd.DataFrame(Data)\n",
        "mean_values = df[['Luas', 'Populasi']].mean()\n",
        "std_dev_values = df[['Luas', 'Populasi']].std()\n",
        "mean_data = {\n",
        "    'Negara': df['Negara'],\n",
        "    'Luas Area Mean': [mean_values['Luas']] * len(df),\n",
        "    'Populasi Mean': [mean_values['Populasi']] * len(df) }\n",
        "\n",
        "mean_df = pd.DataFrame(mean_data)\n",
        "mean_df.to_csv('NegaraMean.csv', index=False)\n",
        "\n",
        "std_dev_data = {\n",
        "    'Negara': df['Negara'],\n",
        "    'Luas Area Standar Deviasi': [std_dev_values['Luas']] * len(df),\n",
        "    'Populasi Standar Deviasi': [std_dev_values['Populasi']] * len(df)}\n",
        "\n",
        "std_dev_df = pd.DataFrame(std_dev_data)\n",
        "std_dev_df.to_csv('NegaraStandarDeviasi.csv', index=False)\n",
        "\n",
        "print(\"File CSV 'NegaraMean.csv' dan 'NegaraStandarDeviasi.csv' berhasil dibuat.\")"
      ],
      "metadata": {
        "colab": {
          "base_uri": "https://localhost:8080/"
        },
        "id": "z8wsID30Ecq-",
        "outputId": "1581869d-8d90-460a-d383-ca9c8f5ed6ab"
      },
      "execution_count": 3,
      "outputs": [
        {
          "output_type": "stream",
          "name": "stdout",
          "text": [
            "File CSV 'NegaraMean.csv' dan 'NegaraStandarDeviasi.csv' berhasil dibuat.\n"
          ]
        }
      ]
    }
  ]
}