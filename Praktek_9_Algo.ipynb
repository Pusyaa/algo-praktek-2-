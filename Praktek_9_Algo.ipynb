{
  "nbformat": 4,
  "nbformat_minor": 0,
  "metadata": {
    "colab": {
      "provenance": []
    },
    "kernelspec": {
      "name": "python3",
      "display_name": "Python 3"
    },
    "language_info": {
      "name": "python"
    }
  },
  "cells": [
    {
      "cell_type": "code",
      "source": [
        "nama = input(\"Masukkan Nama mu: \")\n",
        "umur = input(\"Masukkan Umur mu: \")\n",
        "alamat = input(\"Masukkan Alamatmu: \")\n",
        "email = input(\"Masukkan Emailmu: \")\n",
        "dosen_wali = input(\"Masukkan Dosen Walimu: \")\n",
        "\n",
        "with open(\"Biodata.txt\", \"w\") as file:\n",
        "    file.write(f\"Nama: {nama}\\n\")\n",
        "    file.write(f\"Umur: {umur}\\n\")\n",
        "    file.write(f\"Alamat: {alamat}\\n\")\n",
        "    file.write(f\"Email: {email}\\n\")\n",
        "    file.close\n",
        "\n",
        "print()\n",
        "print(\"Berikut ini Data kamu\")\n",
        "file = open(\"Biodata.txt\", \"r\")\n",
        "text = file.read()\n",
        "print(text)\n",
        "file.close()\n",
        "\n",
        "print(\"\\nData berhasil disimpan ke file 'Biodata.txt'.\")"
      ],
      "metadata": {
        "colab": {
          "base_uri": "https://localhost:8080/"
        },
        "id": "W8L-9ms-6HqK",
        "outputId": "4857a75b-70e3-49ce-ba6e-7c783594b75f"
      },
      "execution_count": 6,
      "outputs": [
        {
          "output_type": "stream",
          "name": "stdout",
          "text": [
            "Masukkan Nama mu: Putra Ferdiansyah Rachman\n",
            "Masukkan Umur mu: 19\n",
            "Masukkan Alamatmu: Seskoal\n",
            "Masukkan Emailmu: 064102400021@std.trisakti.ac.id\n",
            "Masukkan Dosen Walimu: Bu Binti\n",
            "\n",
            "Berikut ini Data kamu\n",
            "Nama: Putra Ferdiansyah Rachman\n",
            "Umur: 19\n",
            "Alamat: Seskoal\n",
            "Email: 064102400021@std.trisakti.ac.id\n",
            "\n",
            "\n",
            "Data berhasil disimpan ke file 'Biodata.txt'.\n"
          ]
        }
      ]
    },
    {
      "cell_type": "code",
      "source": [
        "import os\n",
        "def create_file(file_name):\n",
        "    \"\"\"Membuat file baru dengan nama yang diberikan.\"\"\"\n",
        "    with open(file_name, 'w') as file:\n",
        "        file.write(\"\")\n",
        "    print(f\"File '{file_name}' berhasil dibuat.\")\n",
        "\n",
        "def read_file(file_name):\n",
        "    \"\"\"Membaca isi file.\"\"\"\n",
        "    if os.path.exists(file_name):\n",
        "        with open(file_name, 'r') as file:\n",
        "            content = file.read()\n",
        "        print(f\"Isi file '{file_name}':\\n{content}\")\n",
        "    else:\n",
        "        print(f\"File '{file_name}' tidak ditemukan.\")\n",
        "\n",
        "def append_to_file(file_name, text):\n",
        "    \"\"\"Menambahkan teks ke file.\"\"\"\n",
        "    if os.path.exists(file_name):\n",
        "        with open(file_name, 'a') as file:\n",
        "            file.write(text + '\\n')\n",
        "        print(\"Teks berhasil ditambahkan ke file.\")\n",
        "    else:\n",
        "        print(f\"File '{file_name}' tidak ditemukan. Anda perlu membuat file terlebih dahulu.\")\n",
        "\n",
        "def main_menu():\n",
        "    \"\"\"Menampilkan menu utama dan menjalankan pilihan pengguna.\"\"\"\n",
        "    while True:\n",
        "        print(\"\\nMenu:\")\n",
        "        print(\"1. Buat file baru\")\n",
        "        print(\"2. Baca file\")\n",
        "        print(\"3. Tambahkan teks ke file\")\n",
        "        print(\"4. Keluar\")\n",
        "\n",
        "        choice = input(\"Pilih menu (1/2/3/4): \")\n",
        "\n",
        "        if choice == '1':\n",
        "            file_name = input(\"Masukkan nama file yang ingin dibuat (dengan ekstensi, misalnya 'file.txt'): \")\n",
        "            create_file(file_name)\n",
        "        elif choice == '2':\n",
        "            file_name = input(\"Masukkan nama file yang ingin dibaca: \")\n",
        "            read_file(file_name)\n",
        "        elif choice == '3':\n",
        "            file_name = input(\"Masukkan nama file yang ingin ditambahkan teks: \")\n",
        "            text = input(\"Masukkan teks yang ingin ditambahkan: \")\n",
        "            append_to_file(file_name, text)\n",
        "        elif choice == '4':\n",
        "            print(\"Terima kasih telah menggunakan program ini!\")\n",
        "            break\n",
        "        else:\n",
        "            print(\"Pilihan tidak valid. Silakan pilih kembali.\")\n",
        "\n",
        "# Memulai program\n",
        "if __name__ == \"__main__\":\n",
        "    main_menu()\n"
      ],
      "metadata": {
        "colab": {
          "base_uri": "https://localhost:8080/"
        },
        "id": "C5dsRJvC_vrq",
        "outputId": "8427ffb3-073e-4df7-9939-4ae637e2703e"
      },
      "execution_count": 7,
      "outputs": [
        {
          "output_type": "stream",
          "name": "stdout",
          "text": [
            "\n",
            "Menu:\n",
            "1. Buat file baru\n",
            "2. Baca file\n",
            "3. Tambahkan teks ke file\n",
            "4. Keluar\n",
            "Pilih menu (1/2/3/4): 1\n",
            "Masukkan nama file yang ingin dibuat (dengan ekstensi, misalnya 'file.txt'): Aku.txt\n",
            "File 'Aku.txt' berhasil dibuat.\n",
            "\n",
            "Menu:\n",
            "1. Buat file baru\n",
            "2. Baca file\n",
            "3. Tambahkan teks ke file\n",
            "4. Keluar\n",
            "Pilih menu (1/2/3/4): 3\n",
            "Masukkan nama file yang ingin ditambahkan teks: Aku.txt\n",
            "Masukkan teks yang ingin ditambahkan: Namaku adalah Putra Ferdiansyah Rachman, saat ini saya sedang berkuliah di trisakti \n",
            "Teks berhasil ditambahkan ke file.\n",
            "\n",
            "Menu:\n",
            "1. Buat file baru\n",
            "2. Baca file\n",
            "3. Tambahkan teks ke file\n",
            "4. Keluar\n",
            "Pilih menu (1/2/3/4): 2\n",
            "Masukkan nama file yang ingin dibaca: Aku.txt\n",
            "Isi file 'Aku.txt':\n",
            "Namaku adalah Putra Ferdiansyah Rachman, saat ini saya sedang berkuliah di trisakti \n",
            "\n",
            "\n",
            "Menu:\n",
            "1. Buat file baru\n",
            "2. Baca file\n",
            "3. Tambahkan teks ke file\n",
            "4. Keluar\n",
            "Pilih menu (1/2/3/4): 1\\\n",
            "Pilihan tidak valid. Silakan pilih kembali.\n",
            "\n",
            "Menu:\n",
            "1. Buat file baru\n",
            "2. Baca file\n",
            "3. Tambahkan teks ke file\n",
            "4. Keluar\n",
            "Pilih menu (1/2/3/4): trisakti.txt\n",
            "Pilihan tidak valid. Silakan pilih kembali.\n",
            "\n",
            "Menu:\n",
            "1. Buat file baru\n",
            "2. Baca file\n",
            "3. Tambahkan teks ke file\n",
            "4. Keluar\n",
            "Pilih menu (1/2/3/4): 1\n",
            "Masukkan nama file yang ingin dibuat (dengan ekstensi, misalnya 'file.txt'): trisakti.txt\n",
            "File 'trisakti.txt' berhasil dibuat.\n",
            "\n",
            "Menu:\n",
            "1. Buat file baru\n",
            "2. Baca file\n",
            "3. Tambahkan teks ke file\n",
            "4. Keluar\n",
            "Pilih menu (1/2/3/4): 4\n",
            "Terima kasih telah menggunakan program ini!\n"
          ]
        }
      ]
    },
    {
      "cell_type": "code",
      "source": [],
      "metadata": {
        "id": "i5hJOKrEAH3n"
      },
      "execution_count": null,
      "outputs": []
    }
  ]
}