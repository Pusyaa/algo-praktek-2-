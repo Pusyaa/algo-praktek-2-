{
  "nbformat": 4,
  "nbformat_minor": 0,
  "metadata": {
    "colab": {
      "provenance": []
    },
    "kernelspec": {
      "name": "python3",
      "display_name": "Python 3"
    },
    "language_info": {
      "name": "python"
    }
  },
  "cells": [
    {
      "cell_type": "code",
      "execution_count": 16,
      "metadata": {
        "colab": {
          "base_uri": "https://localhost:8080/"
        },
        "id": "F3dQmzDtnvfP",
        "outputId": "0c03b744-c240-4282-8f8a-4c1820e0a2d4"
      },
      "outputs": [
        {
          "output_type": "stream",
          "name": "stdout",
          "text": [
            "Masukkan nilai yang ingin kamu hitung: 137\n",
            "137 adalah bilangan prima.\n"
          ]
        }
      ],
      "source": [
        "#Latihan 1\n",
        "def BacaValidInput(s):\n",
        "    while True:\n",
        "        temp = int(input(s))\n",
        "        if 0 <= temp <= 1000000:  # valid jika dalam rentang 0 hingga 1,000,000\n",
        "            break\n",
        "    return temp\n",
        "\n",
        "\n",
        "def is_prime(n):\n",
        "    if n <= 1:\n",
        "        return False\n",
        "    for i in range(2, int(n**0.5) + 1):\n",
        "        if n % i == 0:\n",
        "            return False\n",
        "    return True\n",
        "\n",
        "def check_prime_number(number):\n",
        "    if is_prime(number):\n",
        "        print(f\"{number} adalah bilangan prima.\")\n",
        "    else:\n",
        "        print(f\"{number} bukan bilangan prima.\")\n",
        "\n",
        "def main():\n",
        "    number = BacaValidInput(\"Masukkan nilai yang ingin kamu hitung: \")\n",
        "    check_prime_number(number)\n",
        "\n",
        "\n",
        "main()\n"
      ]
    },
    {
      "cell_type": "code",
      "source": [
        "#Latihan 2\n",
        "def get_suffix(number):\n",
        "    # Tentukan akhiran yang tepat berdasarkan aturan bahasa Inggris\n",
        "    if 10 <= number % 100 <= 20:  # Angka yang diakhiri dengan 11, 12, 13, dst. selalu \"th\"\n",
        "        suffix = \"th\"\n",
        "    elif number % 10 == 1:  # Angka yang diakhiri dengan 1 tetapi bukan 11\n",
        "        suffix = \"st\"\n",
        "    elif number % 10 == 2:  # Angka yang diakhiri dengan 2 tetapi bukan 12\n",
        "        suffix = \"nd\"\n",
        "    elif number % 10 == 3:  # Angka yang diakhiri dengan 3 tetapi bukan 13\n",
        "        suffix = \"rd\"\n",
        "    else:\n",
        "        suffix = \"th\"  # Semua angka lainnya berakhiran \"th\"\n",
        "    return suffix\n",
        "\n",
        "def display_number_with_suffix(number):\n",
        "    suffix = get_suffix(number)\n",
        "    print(f\"{number}{suffix}\")\n",
        "\n",
        "def main():\n",
        "    while True:\n",
        "        try:\n",
        "            number = int(input(\"Masukkan angka (atau ketik -1 untuk keluar): \"))\n",
        "            if number == -1 :\n",
        "                break\n",
        "            display_number_with_suffix(number)\n",
        "        except ValueError:\n",
        "            print(\"Masukkan angka yang valid.\")\n",
        "\n",
        "main()"
      ],
      "metadata": {
        "colab": {
          "base_uri": "https://localhost:8080/"
        },
        "id": "9nnpD5Pu5VBF",
        "outputId": "bef40740-1e51-4b23-e1aa-881990c46c1d"
      },
      "execution_count": 25,
      "outputs": [
        {
          "name": "stdout",
          "output_type": "stream",
          "text": [
            "Masukkan angka (atau ketik -1 untuk keluar): 1\n",
            "1st\n",
            "Masukkan angka (atau ketik -1 untuk keluar): 2\n",
            "2nd\n",
            "Masukkan angka (atau ketik -1 untuk keluar): 3\n",
            "3rd\n",
            "Masukkan angka (atau ketik -1 untuk keluar): 13\n",
            "13th\n",
            "Masukkan angka (atau ketik -1 untuk keluar): 23\n",
            "23rd\n",
            "Masukkan angka (atau ketik -1 untuk keluar): 21\n",
            "21st\n",
            "Masukkan angka (atau ketik -1 untuk keluar): 31\n",
            "31st\n",
            "Masukkan angka (atau ketik -1 untuk keluar): -1\n"
          ]
        }
      ]
    }
  ]
}